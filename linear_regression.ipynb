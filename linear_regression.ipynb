{
 "cells": [
  {
   "cell_type": "code",
   "execution_count": 52,
   "metadata": {},
   "outputs": [],
   "source": [
    "import torch\n",
    "import random\n",
    "from d2l import torch as d2l"
   ]
  },
  {
   "cell_type": "code",
   "execution_count": 53,
   "metadata": {},
   "outputs": [],
   "source": [
    "def generate_examples(example_num, w, b):\n",
    "    X = torch.normal(0, 1, (example_num, len(w)))\n",
    "    y = torch.matmul(X, w.reshape(-1, 1)) + b\n",
    "    noise = torch.normal(0, 0.01, y.shape)\n",
    "    return X, y + noise\n",
    "\n",
    "def data_iter(features, labels, example_num, batch_size):\n",
    "    indice = list(range(example_num))\n",
    "    random.shuffle(indice)\n",
    "    for i in range(0, example_num, batch_size):\n",
    "        batch_indice = indice[i: min(i + batch_size, example_num)]\n",
    "        yield features[batch_indice], labels[batch_indice]\n",
    "\n",
    "def SGD(params, learning_rate, batch_size):\n",
    "    with torch.no_grad():\n",
    "        for param in params:\n",
    "            param -= learning_rate * param.grad / batch_size\n",
    "            param.grad.zero_()"
   ]
  },
  {
   "cell_type": "code",
   "execution_count": 54,
   "metadata": {},
   "outputs": [],
   "source": [
    "def MSE(y_hat, y):\n",
    "    return (y_hat - y)**2\n",
    "\n",
    "def f(X, w, b):\n",
    "    return torch.matmul(X, w.reshape(-1, 1)) + b"
   ]
  },
  {
   "cell_type": "code",
   "execution_count": 55,
   "metadata": {},
   "outputs": [
    {
     "name": "stdout",
     "output_type": "stream",
     "text": [
      "epoch 1, training loss: 0.000239\n",
      "w: tensor([[ 4.9899],\n",
      "        [-4.1941]], requires_grad=True)\n",
      "b: tensor([1.1007], requires_grad=True)\n",
      "\n",
      "epoch 2, training loss: 0.000107\n",
      "w: tensor([[ 5.0005],\n",
      "        [-4.2007]], requires_grad=True)\n",
      "b: tensor([1.0999], requires_grad=True)\n",
      "\n",
      "epoch 3, training loss: 0.000106\n",
      "w: tensor([[ 4.9998],\n",
      "        [-4.2000]], requires_grad=True)\n",
      "b: tensor([1.0991], requires_grad=True)\n",
      "\n"
     ]
    }
   ],
   "source": [
    "true_w = torch.tensor([5.0, -4.2])\n",
    "true_b = 1.1\n",
    "\n",
    "loss = MSE\n",
    "net = f\n",
    "trainer = SGD\n",
    "\n",
    "batch_size = 10\n",
    "epoch_num = 3\n",
    "learning_rate = 0.03\n",
    "example_num = 1000\n",
    "\n",
    "training_features, training_labels = generate_examples(example_num, true_w, true_b)\n",
    "\n",
    "w = torch.normal(0, 1, (2, 1), requires_grad = True)\n",
    "b = torch.zeros(1, requires_grad = True)\n",
    "\n",
    "for epoch in range(epoch_num):\n",
    "    for X, y in data_iter(training_features, training_labels, example_num, batch_size):\n",
    "        l = loss(net(X, w, b), y)\n",
    "        l.sum().backward()\n",
    "        trainer([w, b], learning_rate, batch_size)\n",
    "    with torch.no_grad():\n",
    "        train_l = loss(net(training_features, w, b), training_labels)\n",
    "        print(f'epoch {epoch + 1}, training loss: {train_l.mean():f}')\n",
    "        print(f'w: {w}\\nb: {b}\\n')"
   ]
  }
 ],
 "metadata": {
  "kernelspec": {
   "display_name": "Learning",
   "language": "python",
   "name": "python3"
  },
  "language_info": {
   "codemirror_mode": {
    "name": "ipython",
    "version": 3
   },
   "file_extension": ".py",
   "mimetype": "text/x-python",
   "name": "python",
   "nbconvert_exporter": "python",
   "pygments_lexer": "ipython3",
   "version": "3.9.18"
  }
 },
 "nbformat": 4,
 "nbformat_minor": 2
}
