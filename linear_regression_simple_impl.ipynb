{
 "cells": [
  {
   "cell_type": "code",
   "execution_count": 64,
   "metadata": {},
   "outputs": [],
   "source": [
    "import numpy as np\n",
    "import torch\n",
    "from torch.utils import data\n",
    "from torch import nn\n",
    "from d2l import torch as d2l\n",
    "\n",
    "# generate training data\n",
    "num_examples = 1000\n",
    "true_w = torch.tensor([2.4, -5.2])\n",
    "true_b = 1.43\n",
    "training_features, training_labels = d2l.synthetic_data(true_w, true_b, num_examples)\n",
    "\n",
    "# hyper parameters\n",
    "batch_size = 10\n",
    "learning_rate = 0.03\n",
    "num_epochs = 3"
   ]
  },
  {
   "cell_type": "code",
   "execution_count": 65,
   "metadata": {},
   "outputs": [],
   "source": [
    "def load_array(data_arrays, batch_size, is_train = True):\n",
    "    dataset = data.TensorDataset(*data_arrays)\n",
    "    return data.DataLoader(dataset, batch_size, is_train)\n",
    "\n",
    "data_iter = load_array((training_features, training_labels), batch_size)"
   ]
  },
  {
   "cell_type": "code",
   "execution_count": 66,
   "metadata": {},
   "outputs": [],
   "source": [
    "linear_layer = nn.Linear(2, 1)\n",
    "nn.init.normal_(linear_layer.weight)\n",
    "nn.init.zeros_(linear_layer.bias)\n",
    "net = nn.Sequential(linear_layer)\n",
    "loss = nn.MSELoss()\n",
    "trainer = torch.optim.SGD(net.parameters(), learning_rate)"
   ]
  },
  {
   "cell_type": "code",
   "execution_count": 67,
   "metadata": {},
   "outputs": [
    {
     "name": "stdout",
     "output_type": "stream",
     "text": [
      "epoch 1, training loss: 0.000604\n",
      "epoch 2, training loss: 0.000057\n",
      "epoch 3, training loss: 0.000018\n",
      "w: Parameter containing:\n",
      "tensor([[ 2.4009, -5.1994]], requires_grad=True)\n",
      "b: Parameter containing:\n",
      "tensor([1.4309], requires_grad=True)\n"
     ]
    }
   ],
   "source": [
    "for epoch in range(num_epochs):\n",
    "    for X, y in data_iter:\n",
    "        l = loss(net(X), y)\n",
    "        trainer.zero_grad()\n",
    "        l.backward()\n",
    "        trainer.step()\n",
    "    with torch.no_grad():\n",
    "        print(f'epoch {epoch + 1}, training loss: {l:f}')\n",
    "\n",
    "print(f'w: {linear_layer.weight}\\nb: {linear_layer.bias}')"
   ]
  }
 ],
 "metadata": {
  "kernelspec": {
   "display_name": "Learning",
   "language": "python",
   "name": "python3"
  },
  "language_info": {
   "codemirror_mode": {
    "name": "ipython",
    "version": 3
   },
   "file_extension": ".py",
   "mimetype": "text/x-python",
   "name": "python",
   "nbconvert_exporter": "python",
   "pygments_lexer": "ipython3",
   "version": "3.9.18"
  }
 },
 "nbformat": 4,
 "nbformat_minor": 2
}
